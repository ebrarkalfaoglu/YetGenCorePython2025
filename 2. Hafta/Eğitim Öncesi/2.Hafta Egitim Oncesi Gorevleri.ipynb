{
 "cells": [
  {
   "cell_type": "markdown",
   "metadata": {
    "id": "tn8GZg8pTGFf"
   },
   "source": [
    "### Soru 1 \n",
    "Yazılımcıların bir dili öğrenmeye başladığında ilk yapacakları şey ekrana \"Hello World\" yazdırmaktır. Python'da da aynı şeyi yapalım.Bir yazılımcı aşağıdaki kodu yazarken hata yapıyor. Bunu düzelterek çalışan bir kod yazalım.\n"
   ]
  },
  {
   "cell_type": "code",
   "execution_count": null,
   "metadata": {
    "id": "bt_InlLMTGGF"
   },
   "outputs": [],
   "source": [
    "print (Hello World)"
   ]
  },
  {
   "cell_type": "markdown",
   "metadata": {
    "id": "t9Rh_pt2TGGL"
   },
   "source": [
    "### Soru 2\n",
    "İki YetGen'li zirvede karşılaşıyor. Zirvede birbirleriyle Python standında konuşurken YetGen Jump Python renginin ne olduğunu konuşurken bir YetGen lideri **logo** değişkenine atayıp ekrana bastırmalarını istiyor. Onlara bu noktada yardımcı olur musun?"
   ]
  },
  {
   "cell_type": "code",
   "execution_count": null,
   "metadata": {
    "id": "RI1LXAWhTGGO"
   },
   "outputs": [],
   "source": [
    "logo = https://miro.medium.com/v2/resize:fit:910/1*jbz6ImV3RT_vNzSvSHW_Fg.png\n",
    "print (logo)"
   ]
  },
  {
   "cell_type": "markdown",
   "metadata": {
    "id": "g0lXs2PTTGGR"
   },
   "source": [
    "### Soru 3\n",
    "Dairenin alanını hesaplayan bir Python kodu yazınız. pi sayısını 3.14 olarak alınız ve yarıçapını kullanıcıdan alınız. Sonucu ekrana bastırınız."
   ]
  },
  {
   "cell_type": "code",
   "execution_count": null,
   "metadata": {
    "id": "BGpgBhplTGGS"
   },
   "outputs": [],
   "source": [
    "pi=3.14\n",
    "\n",
    "yaricap= float(input (\"Dairenin yaricapini giriniz:\"))\n",
    "\n",
    "print(\"Dairenin alani:\", pi*(yaricap**2))"
   ]
  },
  {
   "cell_type": "markdown",
   "metadata": {
    "id": "cPMMpdJzTGGV"
   },
   "source": [
    "### Soru 4\n",
    "x ve y adında iki liste oluşturunuz. Bu listeleri birbiryle yer değiştirerek yazdırınız.\n",
    "\n",
    "```python\n",
    "x = [1,2,3,4,5]\n",
    "y = [5,4,3,2,1]\n",
    "``` \n",
    "\n",
    "```python\t\n",
    "Output:\n",
    "x = [5, 4, 3, 2, 1]\n",
    "y = [1, 2, 3, 4, 5]\n",
    "```"
   ]
  },
  {
   "cell_type": "code",
   "execution_count": null,
   "metadata": {},
   "outputs": [],
   "source": [
    "x = [1,2,3,4,5]\n",
    "y = [5,4,3,2,1]\n",
    "\n",
    "temp = []\n",
    "temp = x\n",
    "x =y \n",
    "y= temp\n",
    "\n",
    "print (x)\n",
    "print (y)\n"
   ]
  },
  {
   "cell_type": "markdown",
   "metadata": {
    "id": "vhKsciz1TGGY"
   },
   "source": [
    "### Soru 5\n",
    "Aşağıda verilen kod satırının sonuncunu 1 olacak şekilde düzenleyiniz."
   ]
  },
  {
   "cell_type": "code",
   "execution_count": null,
   "metadata": {
    "id": "aAgU4SaSTGGb"
   },
   "outputs": [],
   "source": [
    "(5 - 3) // 2"
   ]
  },
  {
   "cell_type": "markdown",
   "metadata": {
    "id": "kRHlU52YTGGe"
   },
   "source": [
    "### Soru 6\n",
    "Aşağıdaki kod satırının sonuncusunu 0 olacak şekilde düzenleyiniz."
   ]
  },
  {
   "cell_type": "code",
   "execution_count": null,
   "metadata": {
    "id": "SQfEo_XTTGGg"
   },
   "outputs": [],
   "source": [
    "(8 - 3) * (2 - (1 + 1))"
   ]
  },
  {
   "cell_type": "markdown",
   "metadata": {
    "id": "tpixAZXyTGGi"
   },
   "source": [
    "### Soru 7\n",
    "YetGen liderlerinden Berkcan, Emirhan ve Eslem, Ramazan Bayramı'nda topladıkları şekerlerini bir araya getirmeyi ve kendi aralarında eşit olarak paylaşmayı kabul ettiler.\n",
    "Eşit paylaşım yapıldıktan sonra kalan şekerler parçalanacak. Örneğin, eğer toplamda 91 şekerleri varsa , her biri 30 tane alıp kalan 1 tane şekeri parçalayacaklar.\n",
    "Kaç tane şekeri parçalayacaklarını hesaplayan bir Python kodu yazınız."
   ]
  },
  {
   "cell_type": "code",
   "execution_count": null,
   "metadata": {
    "id": "O75NG8MaTGGk"
   },
   "outputs": [],
   "source": [
    "berkcan = int(input(\"Berkcan'in seker sayisi:\"))\n",
    "emirhan = int(input(\"Emirhan'in seker sayisi:\"))\n",
    "eslem =   int(input(\"Eslem'in seker sayisi:\"))\n",
    "\n",
    "total = berkcan + emirhan + eslem \n",
    "a = total // 3\n",
    "kalan= total % 3\n",
    "\n",
    "a += kalan /3\n",
    "\n",
    "berkcan = emirhan = eslem = a"
   ]
  }
 ],
 "metadata": {
  "colab": {
   "provenance": []
  },
  "kernelspec": {
   "display_name": "Python 3.10.5 64-bit",
   "language": "python",
   "name": "python3"
  },
  "language_info": {
   "codemirror_mode": {
    "name": "ipython",
    "version": 3
   },
   "file_extension": ".py",
   "mimetype": "text/x-python",
   "name": "python",
   "nbconvert_exporter": "python",
   "pygments_lexer": "ipython3",
   "version": "3.10.5"
  },
  "orig_nbformat": 4,
  "vscode": {
   "interpreter": {
    "hash": "5026d2d6e7aaaaba093def813beadff083d8733e4a511af01735cbabd156995d"
   }
  }
 },
 "nbformat": 4,
 "nbformat_minor": 0
}
