{
 "cells": [
  {
   "cell_type": "markdown",
   "metadata": {
    "id": "4i4T2_mYtDbK"
   },
   "source": [
    "# Problem 1\n",
    "Elinizde bir dikdörtgenin kenarlarını ifade eden sayı çiftlerinin bulunduğu bir liste olsun.\n",
    "\n",
    "     [(3,4),(10,3),(5,6),(1,9)]\n",
    "\n",
    "Şimdi kenar uzunluklarına göre dikdörtgenin alanını hesaplayan bir fonksiyon yazın ve bu listenin her bir elemanına bu fonksiyonu uygulayarak ekrana şöyle bir liste yazdırın.\n",
    "\n",
    "     [12, 30, 30, 9]\n",
    "\n",
    "İpucu : map() fonksiyonunu kullanmaya çalışın."
   ]
  },
  {
   "cell_type": "code",
   "execution_count": 4,
   "metadata": {
    "id": "7sIq-jJwtDbN"
   },
   "outputs": [
    {
     "name": "stdout",
     "output_type": "stream",
     "text": [
      "[12, 30, 30, 9]\n"
     ]
    }
   ],
   "source": [
    "def alanhesapla (a, b):\n",
    "    return a*b\n",
    "\n",
    "kenarlar = [(3,4), (10,3), (5,6), (1,9)]\n",
    "alanlar = []\n",
    "\n",
    "alanlar = list(map(lambda x: alanhesapla(x[0], x[1]), kenarlar))\n",
    "print (alanlar)"
   ]
  },
  {
   "cell_type": "markdown",
   "metadata": {
    "id": "mDPVivNxtDbO"
   },
   "source": [
    "# Problem 2\n",
    "\n",
    "Elinizden her bir elemanı 3'lü bir demet olan bir liste olsun.\n",
    "\n",
    " ```[(3,4,5),(6,8,10),(3,10,7)]```\n",
    "\n",
    "Şimdi kenar uzunluklarına göre bu kenarların bir üçgen oluşturup oluşturmadığını döndüren bir fonksiyon yazın ve sadece üçgen oluşturan kenarları bulunduran listeyi ekrana yazdırın.\n",
    "\n",
    " ```[(3, 4, 5), (6, 8, 10)]```\n",
    "\n",
    "İpucu: filter() fonksiyonunu kullanmaya çalışın."
   ]
  },
  {
   "cell_type": "code",
   "execution_count": 6,
   "metadata": {
    "id": "nf-hi67xtDbP"
   },
   "outputs": [
    {
     "name": "stdout",
     "output_type": "stream",
     "text": [
      "[(3, 4, 5), (6, 8, 10)]\n"
     ]
    }
   ],
   "source": [
    "kenarlar = [(3, 4, 5), (6, 8, 10), (3, 10, 7)]\n",
    "\n",
    "def ucgenMi(x, y, z):\n",
    "    return (x + y > z) and (x + z > y) and (y + z > x)\n",
    "\n",
    "ucgenler = list(filter(lambda x: ucgenMi(x[0], x[1], x[2]), kenarlar))\n",
    "\n",
    "print(ucgenler)\n"
   ]
  },
  {
   "cell_type": "markdown",
   "metadata": {
    "id": "35ur1Ul_tDbP"
   },
   "source": [
    "# Problem 3\n",
    "Elinizde aşağıdaki gibi bir liste bulunmaktadır.\n",
    "\n",
    "```[1,2,3,4,5,6,7,8,9,10]```\n",
    "\n",
    "Bu listenin içindeki çift sayıların toplamını ekrana yazdıran bir fonksiyon yazın.\n",
    "\n",
    "İpucu: İlk önce filter() fonksiyonu ile çift sayıları ayıklayın. Daha sonra reduce() fonksiyonunu kullanın."
   ]
  },
  {
   "cell_type": "code",
   "execution_count": 7,
   "metadata": {
    "id": "sRPOpzAvtDbP"
   },
   "outputs": [
    {
     "name": "stdout",
     "output_type": "stream",
     "text": [
      "30\n"
     ]
    }
   ],
   "source": [
    "from functools import reduce\n",
    "\n",
    "ciftler = []\n",
    "ciftler = list (filter (lambda x: x % 2 == 0, [1,2,3,4,5,6,7,8,9,10]))\n",
    "\n",
    "toplam = reduce (lambda x,y: x + y, ciftler)\n",
    "\n",
    "print (toplam)"
   ]
  },
  {
   "cell_type": "markdown",
   "metadata": {
    "id": "b-NzXcXrtDbQ"
   },
   "source": [
    "# Problem 4\n",
    "\n",
    "Elinizde isimlerin ve soyisimlerin bulunduğu iki tane liste bulunmaktadır.\n",
    "\n",
    "    isimler -----> [\"Kerim\",\"Tarık\",\"Ezgi\",\"Kemal\",\"İlkay\",\"Şükran\",\"Merve\"]\n",
    "\n",
    "    soyisimler -----> [\"Yılmaz\",\"Öztürk\",\"Dağdeviren\",\"Atatürk\",\"Dikmen\",\"Kaya\",\"Polat\"]\n",
    "    \n",
    "Bu isimleri ve soyisimleri sırasıyla eşleştirin ve ekrana alt alta isimleri ve soyisimleri yazdırın.\n",
    "\n",
    "İpucu: zip() fonksiyonunu kullanmaya kullanın."
   ]
  },
  {
   "cell_type": "code",
   "execution_count": 13,
   "metadata": {
    "id": "y_psHJSitDbQ"
   },
   "outputs": [
    {
     "name": "stdout",
     "output_type": "stream",
     "text": [
      "Kerim Yılmaz\n",
      "Tarık Oztürk\n",
      "Ezgi Dagdeviren\n",
      "Kemal Atatür\n",
      "İlkay Dikmen\n",
      "Sukran Kaya\n",
      "Merve Polat\n"
     ]
    }
   ],
   "source": [
    "isimler = [\"Kerim\", \"Tarık\", \"Ezgi\", \"Kemal\", \"İlkay\", \"Sukran\", \"Merve\" ]\n",
    "soyisimler = [\"Yılmaz\", \"Oztürk\", \"Dagdeviren\", \"Atatür\", \"Dikmen\", \"Kaya\", \"Polat\"]\n",
    "\n",
    "tamad = list (zip(isimler, soyisimler))\n",
    "\n",
    "for isim, soyisim in tamad:\n",
    "    print (f\"{isim} {soyisim}\")"
   ]
  },
  {
   "cell_type": "markdown",
   "metadata": {
    "id": "iyKtrQHmtDbQ"
   },
   "source": [
    "# Problem 5\n",
    "\n",
    "İçerisinde yetgen, core, python2, programı, 2022, basic2 elemanları bulunan bir liste oluşturun.\n",
    "\n",
    "Bu listenin içindeki stringlerden içinde sadece rakam bulunanları ekrana yazdırın. Bunu yaparken try, except bloklarını kullanmayı unutmayın."
   ]
  },
  {
   "cell_type": "code",
   "execution_count": 18,
   "metadata": {
    "id": "7ckliOAftDbR"
   },
   "outputs": [
    {
     "name": "stdout",
     "output_type": "stream",
     "text": [
      "2022\n"
     ]
    }
   ],
   "source": [
    "list = [\"yetgen\", \"core\", \"python2\", \"programı\", \"2022\", \"basic2\"]\n",
    "\n",
    "for eleman in list:\n",
    "    try:\n",
    "        print(int(eleman))\n",
    "    except ValueError:\n",
    "        continue\n"
   ]
  }
 ],
 "metadata": {
  "colab": {
   "provenance": []
  },
  "kernelspec": {
   "display_name": "Python 3",
   "language": "python",
   "name": "python3"
  },
  "language_info": {
   "codemirror_mode": {
    "name": "ipython",
    "version": 3
   },
   "file_extension": ".py",
   "mimetype": "text/x-python",
   "name": "python",
   "nbconvert_exporter": "python",
   "pygments_lexer": "ipython3",
   "version": "3.11.9"
  },
  "orig_nbformat": 4,
  "vscode": {
   "interpreter": {
    "hash": "5026d2d6e7aaaaba093def813beadff083d8733e4a511af01735cbabd156995d"
   }
  }
 },
 "nbformat": 4,
 "nbformat_minor": 0
}
