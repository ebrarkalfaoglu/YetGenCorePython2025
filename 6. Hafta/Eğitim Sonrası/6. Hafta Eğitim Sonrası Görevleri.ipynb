{
 "cells": [
  {
   "cell_type": "markdown",
   "metadata": {
    "id": "unoTPlV_tJOm"
   },
   "source": [
    "# Problem 1 \n",
    "Bir sayının çift olup olmadığını sorgulayan bir fonksiyon yazın. Bu fonksiyon, eğer sayı çift ise bu değeri dönsün. Ancak sayı tek sayı ise fonksiyon raise ile ValueError hatası oluştursun. Daha sonra, içinde çift ve tek sayılar bulunduran bir liste tanımlayın ve liste üzerinde gezinerek ekrana sadece çift sayıları bastırın."
   ]
  },
  {
   "cell_type": "code",
   "execution_count": 7,
   "metadata": {
    "id": "7oyBSeXptJOp"
   },
   "outputs": [
    {
     "name": "stdout",
     "output_type": "stream",
     "text": [
      "6\n",
      "8\n",
      "22\n",
      "2\n"
     ]
    }
   ],
   "source": [
    "def ciftMi(x):\n",
    "    if x % 2 == 0:\n",
    "        return x\n",
    "    else:\n",
    "        raise ValueError\n",
    "\n",
    "liste = [3, 6, 8, 19, 22, 2, 11, 47]\n",
    "\n",
    "for sayi in liste:\n",
    "    try:\n",
    "        print(ciftMi(sayi))\n",
    "    except ValueError:\n",
    "        pass \n"
   ]
  },
  {
   "cell_type": "markdown",
   "metadata": {
    "id": "CdfzJ2A9tJOq"
   },
   "source": [
    "# Problem 2\n",
    "\n",
    "2 YetGen lideri ders sırasında canları sıkılınca oyun oynamak isterler. Ancak hangi oyunu oynayacaklarına karar veremezler ve son olarak kendi oyunlarını yazmaya karar verirler.\n",
    "Liderlerimizin kodlamak istediği oyun kuralları şöyledir:\n",
    "- Oyunda random olarak 0 ile 100 arasında bir sayı tutulur.\n",
    "- Kullanıcıdan bilgisayarın tuttuğu sayıyı tahmin etmesi için bir sayı girmesini istenir.\n",
    "- Eğer kullanıcının girdiği sayı bulunması gereken sayıdan küçükse  tahmininizi yükseltin, büyükse tahmininizi düşürün şeklinde bir çıktı verilir.\n",
    "- Oyunun gerçeğe yakın olması için bilgisayarın çalışmasını simgelemek için 1 saniye bekleme süresi tanınır.\n",
    "- Kullanıcı 5 hakkı vardır. 5 hakkı da kullanıp sayıyı bulamazsa oyunu kaybeder."
   ]
  },
  {
   "cell_type": "code",
   "execution_count": 12,
   "metadata": {
    "id": "A1VEETgCtJOr"
   },
   "outputs": [
    {
     "name": "stdout",
     "output_type": "stream",
     "text": [
      "Daha yüksek bir sayı girin.\n",
      "Daha yüksek bir sayı girin.\n",
      "Daha düşük bir sayı girin.\n",
      "Daha yüksek bir sayı girin.\n",
      "Daha yüksek bir sayı girin.\n",
      "Hakkınız bitti.\n",
      "Doğru sayı: 91\n"
     ]
    }
   ],
   "source": [
    "import random\n",
    "import time\n",
    "\n",
    "sayi = random.randint (1,100)\n",
    "tahminhakki = 5\n",
    "\n",
    "while True:\n",
    "    tahmin = int(input(\"0 ile 100 arasında bir sayı tuttum. Tahmin et!:\"))\n",
    "    if (tahmin < sayi):\n",
    "        time.sleep(1)\n",
    "        print(\"Daha yüksek bir sayı girin.\")\n",
    "        tahminhakki -= 1\n",
    "    elif (tahmin > sayi):\n",
    "        time.sleep(1)\n",
    "        print(\"Daha düşük bir sayı girin.\")\n",
    "        tahminhakki -= 1\n",
    "    else:\n",
    "        time.sleep(1)\n",
    "        print(\"Tebrikler! Doğru tahmin.\")\n",
    "        break\n",
    "    if (tahminhakki == 0):\n",
    "        print(\"Hakkınız bitti.\")\n",
    "        print(\"Doğru sayı:\", sayi)        \n",
    "        break\n"
   ]
  }
 ],
 "metadata": {
  "colab": {
   "provenance": []
  },
  "kernelspec": {
   "display_name": "Python 3",
   "language": "python",
   "name": "python3"
  },
  "language_info": {
   "codemirror_mode": {
    "name": "ipython",
    "version": 3
   },
   "file_extension": ".py",
   "mimetype": "text/x-python",
   "name": "python",
   "nbconvert_exporter": "python",
   "pygments_lexer": "ipython3",
   "version": "3.11.9"
  },
  "orig_nbformat": 4,
  "vscode": {
   "interpreter": {
    "hash": "5026d2d6e7aaaaba093def813beadff083d8733e4a511af01735cbabd156995d"
   }
  }
 },
 "nbformat": 4,
 "nbformat_minor": 0
}
