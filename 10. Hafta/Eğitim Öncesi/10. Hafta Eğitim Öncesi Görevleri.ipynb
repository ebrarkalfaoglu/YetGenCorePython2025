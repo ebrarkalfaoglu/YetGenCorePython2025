{
 "cells": [
  {
   "attachments": {},
   "cell_type": "markdown",
   "metadata": {},
   "source": [
    "# Problem 1"
   ]
  },
  {
   "cell_type": "code",
   "execution_count": 36,
   "metadata": {},
   "outputs": [
    {
     "name": "stdout",
     "output_type": "stream",
     "text": [
      "[8 4 8 4 5]\n",
      "(5,)\n",
      "[[8]\n",
      " [4]\n",
      " [8]\n",
      " [4]\n",
      " [5]]\n",
      "2\n"
     ]
    }
   ],
   "source": [
    "# 1 - numpy kütüphanesini import edin\n",
    "import numpy as np \n",
    "\n",
    "# 2 - 0 ile 10 arasında 5 sayıdan oluşan matris üretin\n",
    "import random\n",
    "f = np.random.randint (0, 10, 5)\n",
    "print(f)\n",
    "\n",
    "# 3 - matris'in boyutunu öğrenin\n",
    "print(f.shape)\n",
    "\n",
    "# 4 - matris'i yeniden boyutlandırın\n",
    "multi = f.reshape (5 ,1)\n",
    "print (multi)\n",
    "\n",
    "# 5 - matris'in boyut sayısını öğrenin\n",
    "print(multi.ndim)"
   ]
  },
  {
   "attachments": {},
   "cell_type": "markdown",
   "metadata": {},
   "source": [
    "# Problem 2"
   ]
  },
  {
   "cell_type": "code",
   "execution_count": 28,
   "metadata": {},
   "outputs": [
    {
     "name": "stdout",
     "output_type": "stream",
     "text": [
      "[1 3 5 7 9]\n",
      "[array([1]), array([3, 5, 7]), array([9])]\n",
      "[1 3 5 7 9]\n"
     ]
    }
   ],
   "source": [
    "# 1 - 0 ile 10 arasında bulunan tek sayılardan oluşan matris üretin\n",
    "a = np.arange(1, 10, 2)\n",
    "print(a)\n",
    "\n",
    "# 2 - Oluşturduğunuz matrisi parçalayın\n",
    "parcalar = np.split(a, [1, 4])\n",
    "print(parcalar)\n",
    "\n",
    "# 3 - Parçalanmış matrisleri birleştirin\n",
    "birlesim = np.concatenate(parcalar)\n",
    "print(birlesim)\n"
   ]
  },
  {
   "attachments": {},
   "cell_type": "markdown",
   "metadata": {},
   "source": [
    "# Problem 3"
   ]
  },
  {
   "cell_type": "code",
   "execution_count": 38,
   "metadata": {},
   "outputs": [
    {
     "name": "stdout",
     "output_type": "stream",
     "text": [
      "[39  5 93 37 91 45 99 75 79 65]\n",
      "Matris boyutu (shape): (10,)\n",
      "Matris eleman sayısı (size): 10\n",
      "Matris boyut sayısı (ndim): 1\n",
      "Matris veri tipi (dtype): int64\n"
     ]
    }
   ],
   "source": [
    "import random\n",
    "# 1 - 5 ile 100 arasında ikişer ikişer atlayarak rastgele 10 sayıdan oluşan matris üretin\n",
    "sayilar = np.arange(5, 100, 2)  \n",
    "c = np.random.choice(sayilar, 10, replace=False)  \n",
    "print(c)\n",
    "\n",
    "# 2 - matris'in özelliklerini inceleyin\n",
    "print(\"Matris boyutu (shape):\", c.shape)\n",
    "print(\"Matris eleman sayısı (size):\", c.size)\n",
    "print(\"Matris boyut sayısı (ndim):\", c.ndim)\n",
    "print(\"Matris veri tipi (dtype):\", c.dtype)"
   ]
  }
 ],
 "metadata": {
  "kernelspec": {
   "display_name": "Python 3",
   "language": "python",
   "name": "python3"
  },
  "language_info": {
   "codemirror_mode": {
    "name": "ipython",
    "version": 3
   },
   "file_extension": ".py",
   "mimetype": "text/x-python",
   "name": "python",
   "nbconvert_exporter": "python",
   "pygments_lexer": "ipython3",
   "version": "3.11.9"
  },
  "orig_nbformat": 4,
  "vscode": {
   "interpreter": {
    "hash": "5026d2d6e7aaaaba093def813beadff083d8733e4a511af01735cbabd156995d"
   }
  }
 },
 "nbformat": 4,
 "nbformat_minor": 2
}
