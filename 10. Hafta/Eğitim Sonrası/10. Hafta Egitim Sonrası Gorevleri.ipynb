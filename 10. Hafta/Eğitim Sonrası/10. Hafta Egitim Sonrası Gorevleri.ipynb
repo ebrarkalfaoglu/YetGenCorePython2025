{
 "cells": [
  {
   "attachments": {},
   "cell_type": "markdown",
   "metadata": {},
   "source": [
    "# Problem 1 "
   ]
  },
  {
   "cell_type": "code",
   "execution_count": 3,
   "metadata": {},
   "outputs": [
    {
     "name": "stdout",
     "output_type": "stream",
     "text": [
      "[ 4  6  9 12 78]\n"
     ]
    }
   ],
   "source": [
    "# 1 - numpy kütüphanesini import edin\n",
    "import numpy as np\n",
    "\n",
    "# 2 - 5 elemanlı bir numpy array oluşturun\n",
    "a = np.array([12, 9, 4, 6, 78])\n",
    "\n",
    "# 3 - Oluşturduğunuz arrayi küçükten büyüğe sıralayın.\n",
    "print (np.sort(a))"
   ]
  },
  {
   "attachments": {},
   "cell_type": "markdown",
   "metadata": {},
   "source": [
    "# Problem 2"
   ]
  },
  {
   "cell_type": "code",
   "execution_count": 31,
   "metadata": {},
   "outputs": [
    {
     "name": "stdout",
     "output_type": "stream",
     "text": [
      "[ 5  6  7  8  9 10 11 12 13 14]\n",
      "[50 55 60 65 70 75 80 85 90 95]\n",
      "\n",
      "\n",
      "[0. 0. 0. 0. 0. 0. 0. 0. 0. 0.]\n",
      "[1. 1. 1. 1. 1. 1. 1. 1. 1. 1.]\n",
      "\n",
      "\n",
      "[  0.  25.  50.  75. 100.]\n",
      "[11 22 20 18 24]\n",
      "\n",
      "\n",
      "[-1.         -0.77777778 -0.55555556 -0.33333333 -0.11111111  0.11111111\n",
      "  0.33333333  0.55555556  0.77777778  1.        ]\n",
      "\n",
      "\n",
      "[[34 41 20 20 20]\n",
      " [17 36 35 33 29]\n",
      " [47 20 48 31 40]]\n",
      "Satır toplamları: [135 150 186]\n",
      "Sütun toplamları: [ 98  97 103  84  89]\n",
      "En büyük değer: 48\n",
      "En küçük değer: 17\n",
      "Ortalama: 31.4\n",
      "En büyük değerin indeksi (satır, sütun): (np.int64(2), np.int64(2))\n",
      "[10 11 12]\n",
      "[19 18 17 16 15 14 13 12 11 10]\n",
      "\n",
      "\n",
      "[34 41 20 20 20]\n",
      "31\n",
      "[34 17 47]\n",
      "Her elemanın karesi:\n",
      " [[1156 1681  400  400  400]\n",
      " [ 289 1296 1225 1089  841]\n",
      " [2209  400 2304  961 1600]]\n",
      "Pozitif çift sayılar: [34 20 20 20 36 20 48 40]\n"
     ]
    }
   ],
   "source": [
    "import numpy as np\n",
    "import random\n",
    "\n",
    "# 1- (10,15,30,45,60) değerlerine sahip numpy dizisi oluşturunuz.\n",
    "a = np.array ([10, 15, 30, 45, 60])\n",
    "\n",
    "# 2- (5-15) arasındaki sayılarla numpy dizisi oluşturunuz.\n",
    "b = np.arange (5, 15) \n",
    "print (b)\n",
    "\n",
    "# 3- (50-100) arasında 5'er 5'er artarak numpy dizisi oluşturunuz.\n",
    "c = np.arange (50, 100, 5)\n",
    "print (c)\n",
    "print (\"\\n\")\n",
    "\n",
    "# 4- 10 elemanlı sıfırlardan oluşan bir dizi oluşturunuz.\n",
    "d = np.zeros(10)\n",
    "print (d)\n",
    "\n",
    "# 5- 10 elemanlı birlerden oluşan bir dizi oluşturunuz.\n",
    "w = np.ones (10)\n",
    "print (w)\n",
    "print (\"\\n\")\n",
    "\n",
    "# 6- (0-100) arasında eşit aralıklı 5 sayı üretin.\n",
    "r = np.linspace (0, 100, 5)\n",
    "print (r)\n",
    "\n",
    "# 7- (10-30) arasında rastgele 5 tane tamsayı üretin.\n",
    "n = np.random.randint (10, 30, 5)\n",
    "print (n)\n",
    "print (\"\\n\")\n",
    "\n",
    "# 8- [-1 ile 1] arasında 10 adet sayı üretin.\n",
    "m = np.linspace(-1, 1, 10)\n",
    "print (m)\n",
    "print (\"\\n\")\n",
    "\n",
    "# 9- (3x5) boyutlarında (10-50) arasında rastgele bir matris oluşturunuz.\n",
    "y = np.random.randint (10, 50, size = [3, 5])\n",
    "print (y)\n",
    "\n",
    "# 10- Üretilen matrisin satır ve sütun sayıları toplamlarını hesaplayınız ?\n",
    "satir_toplamlari = np.sum(y, axis=1)  \n",
    "sutun_toplamlari = np.sum(y, axis=0)  \n",
    "print(\"Satır toplamları:\", satir_toplamlari)\n",
    "print(\"Sütun toplamları:\", sutun_toplamlari)\n",
    "\n",
    "# 11- Üretilen matrisin en büyük, en küçük ve ortalaması nedir ?\n",
    "max_deger = np.max(y)\n",
    "min_deger = np.min(y)\n",
    "ortalama = np.mean(y)\n",
    "print(\"En büyük değer:\", max_deger)\n",
    "print(\"En küçük değer:\", min_deger)\n",
    "print(\"Ortalama:\", ortalama)\n",
    "\n",
    "# 12- Üretilen matrisin en büyük değerinin indeksi kaçtır ?\n",
    "max_index = np.unravel_index(np.argmax(y), y.shape)\n",
    "print(\"En büyük değerin indeksi (satır, sütun):\", max_index)\n",
    "\n",
    "# 13- (10-20) arasındaki sayıları içeren dizinin ilk 3 elemanını seçiniz.\n",
    "p = np.arange (10, 20)\n",
    "print (p[0:3])\n",
    "\n",
    "# 14- Üretilen dizinin elemanlarını tersten yazdırın.\n",
    "print (p[::-1])\n",
    "print(\"\\n\")\n",
    "\n",
    "# 15- Üretilen matrisin ilk satırını seçiniz.\n",
    "print (y[0,:])\n",
    "\n",
    "# 16- Üretilen matrisin 2.satır 3.sütundaki elemanı hangisidir ?\n",
    "print (y [2,3])\n",
    "\n",
    "# 17- Üretilen matrisin tüm satırlardaki ilk elemanı seçiniz.\n",
    "print (y [:,0])\n",
    "\n",
    "# 18- Üretilen matrisin her bir elemanının karesini alınız.\n",
    "kare = y ** 2\n",
    "print(\"Her elemanın karesi:\\n\", kare)\n",
    "\n",
    "# 19- Üretilen matris elemanlarının hangisi pozitif çift sayıdır ? Aralığı (-50,+50) arasında yapınız.\n",
    "ciftler = y[(y % 2 == 0)]\n",
    "print(\"Pozitif çift sayılar:\", ciftler)"
   ]
  }
 ],
 "metadata": {
  "kernelspec": {
   "display_name": "Python 3",
   "language": "python",
   "name": "python3"
  },
  "language_info": {
   "codemirror_mode": {
    "name": "ipython",
    "version": 3
   },
   "file_extension": ".py",
   "mimetype": "text/x-python",
   "name": "python",
   "nbconvert_exporter": "python",
   "pygments_lexer": "ipython3",
   "version": "3.11.9"
  },
  "orig_nbformat": 4,
  "vscode": {
   "interpreter": {
    "hash": "5026d2d6e7aaaaba093def813beadff083d8733e4a511af01735cbabd156995d"
   }
  }
 },
 "nbformat": 4,
 "nbformat_minor": 2
}
