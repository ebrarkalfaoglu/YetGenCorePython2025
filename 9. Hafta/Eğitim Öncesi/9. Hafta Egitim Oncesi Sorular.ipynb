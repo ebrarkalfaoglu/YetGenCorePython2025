{
 "cells": [
  {
   "cell_type": "markdown",
   "metadata": {
    "id": "uiCS34ejv4VG"
   },
   "source": [
    "# Problem 1\n",
    "Vehicle sınıfından miras alan bir Bus sınıfı oluşturun. Bus.seating_capacity()'nin kapasite bağımsız değişkenine varsayılan olarak 50 değerini verin.\n",
    "\n",
    "```\n",
    "Output:\n",
    "> The seating capacity of a bus is 50 passengers\n",
    "```\n"
   ]
  },
  {
   "cell_type": "code",
   "execution_count": 12,
   "metadata": {
    "id": "keGKzILev4VE"
   },
   "outputs": [
    {
     "ename": "NameError",
     "evalue": "name 'school_bus' is not defined",
     "output_type": "error",
     "traceback": [
      "\u001b[31m---------------------------------------------------------------------------\u001b[39m",
      "\u001b[31mNameError\u001b[39m                                 Traceback (most recent call last)",
      "\u001b[36mCell\u001b[39m\u001b[36m \u001b[39m\u001b[32mIn[12]\u001b[39m\u001b[32m, line 15\u001b[39m\n\u001b[32m     11\u001b[39m         \u001b[38;5;28;01mreturn\u001b[39;00m \u001b[38;5;28msuper\u001b[39m().seating_capacity(capacity)  \n\u001b[32m     13\u001b[39m School_bus = Bus(\u001b[33m\"\u001b[39m\u001b[33mSchool Volvo\u001b[39m\u001b[33m\"\u001b[39m, \u001b[32m2020\u001b[39m, \u001b[32m180\u001b[39m) \n\u001b[32m---> \u001b[39m\u001b[32m15\u001b[39m \u001b[38;5;28mprint\u001b[39m (\u001b[43mschool_bus\u001b[49m.seating_capacity())\n",
      "\u001b[31mNameError\u001b[39m: name 'school_bus' is not defined"
     ]
    }
   ],
   "source": [
    "class Vehicle():\n",
    "    def __init__(self, branch, year, max_speed):\n",
    "        self.branch = branch\n",
    "        self.year = year\n",
    "        self.max_speed = max_speed\n",
    "    def seating_capacity(self, capacity):\n",
    "        return f\"The seating capacity of {self.branch} is {capacity} passengers.\"\n",
    "\n",
    "class Bus (Vehicle):\n",
    "    def seating_capacity(self, capacity = 50):\n",
    "        return super().seating_capacity(capacity)  \n",
    "\n",
    "School_bus = Bus(\"School Volvo\", 2020, 180) \n",
    "\n",
    "print (school_bus.seating_capacity())"
   ]
  },
  {
   "cell_type": "markdown",
   "metadata": {
    "id": "TzTHWO2zv4VB"
   },
   "source": [
    "# Problem 2\n",
    "\n",
    "\n",
    "School_bus'ın aynı zamanda Vehicle sınıfının bir örneği olup olmadığını belirleyiniz."
   ]
  },
  {
   "cell_type": "code",
   "execution_count": 13,
   "metadata": {
    "id": "bTc9IfRfv4VG"
   },
   "outputs": [
    {
     "name": "stdout",
     "output_type": "stream",
     "text": [
      "False\n"
     ]
    }
   ],
   "source": [
    "class Vehicle():\n",
    "    def __init__(self, branch, year, max_speed):\n",
    "        self.branch = branch\n",
    "        self.year = year\n",
    "        self.max_speed = max_speed\n",
    "    def seating_capacity(self, capacity):\n",
    "        return f\"The seating capacity of {self.branch} is {capacity} passengers.\"\n",
    "    \n",
    "class Bus (Vehicle):\n",
    "    def seating_capacity(self, capacity = 50):\n",
    "        return super().seating_capacity(capacity)  \n",
    "\n",
    "School_bus = Bus(\"School Volvo\", 2020, 180)    \n",
    "\n",
    "class School_bus(Vehicle):\n",
    "    pass\n",
    "\n",
    "print(isinstance(School_bus, Vehicle))"
   ]
  }
 ],
 "metadata": {
  "colab": {
   "provenance": []
  },
  "kernelspec": {
   "display_name": "Python 3",
   "language": "python",
   "name": "python3"
  },
  "language_info": {
   "codemirror_mode": {
    "name": "ipython",
    "version": 3
   },
   "file_extension": ".py",
   "mimetype": "text/x-python",
   "name": "python",
   "nbconvert_exporter": "python",
   "pygments_lexer": "ipython3",
   "version": "3.11.9"
  },
  "orig_nbformat": 4,
  "vscode": {
   "interpreter": {
    "hash": "5026d2d6e7aaaaba093def813beadff083d8733e4a511af01735cbabd156995d"
   }
  }
 },
 "nbformat": 4,
 "nbformat_minor": 0
}
