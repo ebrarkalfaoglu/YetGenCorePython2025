{
 "cells": [
  {
   "cell_type": "markdown",
   "metadata": {
    "id": "hpyeSHc7K1aN"
   },
   "source": [
    "# Problem 1\n",
    "Bir YetGenli yeni aldığı bahçesinin etrafına çit çevirmek istiyor. Bahçenin etrafını çit ile çevirmek için gerekli çit uzunluğunu ve bahçenin alanını hesaplayan fonksiyonu yazınız."
   ]
  },
  {
   "cell_type": "code",
   "execution_count": 3,
   "metadata": {
    "id": "HfCgs5BHK1aT"
   },
   "outputs": [
    {
     "name": "stdout",
     "output_type": "stream",
     "text": [
      "Gereken çit uzunlugu: 80\n",
      "Bahcenin alanı: 400\n"
     ]
    }
   ],
   "source": [
    "uzunluk = int(input(\"Bahcenin 1. kenar uzunlugunu giriniz:\"))\n",
    "uzunluk2 = int (input(\"Bahcenin 2. kenar uzunlugunu giriniz:\"))\n",
    "\n",
    "def alanhesapla (a,b):\n",
    "    return a*b\n",
    "\n",
    "def cevrehesapla (a,b):\n",
    "    return 2*a + 2*b\n",
    "\n",
    "print(\"Gereken çit uzunlugu:\", cevrehesapla(uzunluk, uzunluk2))\n",
    "print(\"Bahcenin alanı:\", alanhesapla(uzunluk, uzunluk2))\n"
   ]
  },
  {
   "cell_type": "markdown",
   "metadata": {
    "id": "L90q8kwQK1aW"
   },
   "source": [
    "# Problem 2\n",
    "Kendisine gönderilen 2 sayı arasındaki tüm asal sayıları bulan fonksiyonu yazınız."
   ]
  },
  {
   "cell_type": "code",
   "execution_count": 11,
   "metadata": {
    "id": "VxbxzQXdK1aX"
   },
   "outputs": [
    {
     "ename": "UnboundLocalError",
     "evalue": "cannot access local variable 'i' where it is not associated with a value",
     "output_type": "error",
     "traceback": [
      "\u001b[31m---------------------------------------------------------------------------\u001b[39m",
      "\u001b[31mUnboundLocalError\u001b[39m                         Traceback (most recent call last)",
      "\u001b[36mCell\u001b[39m\u001b[36m \u001b[39m\u001b[32mIn[11]\u001b[39m\u001b[32m, line 17\u001b[39m\n\u001b[32m     14\u001b[39m         asallar.append(i)           \n\u001b[32m     15\u001b[39m     \u001b[38;5;28mprint\u001b[39m (asallar)\n\u001b[32m---> \u001b[39m\u001b[32m17\u001b[39m \u001b[43masalsayilar\u001b[49m\u001b[43m \u001b[49m\u001b[43m(\u001b[49m\u001b[43msayi\u001b[49m\u001b[43m,\u001b[49m\u001b[43m \u001b[49m\u001b[43msayi2\u001b[49m\u001b[43m)\u001b[49m\n",
      "\u001b[36mCell\u001b[39m\u001b[36m \u001b[39m\u001b[32mIn[11]\u001b[39m\u001b[32m, line 14\u001b[39m, in \u001b[36masalsayilar\u001b[39m\u001b[34m(a, b)\u001b[39m\n\u001b[32m     12\u001b[39m                 \u001b[38;5;28;01mbreak\u001b[39;00m\n\u001b[32m     13\u001b[39m \u001b[38;5;28;01melse\u001b[39;00m:\n\u001b[32m---> \u001b[39m\u001b[32m14\u001b[39m     asallar.append(\u001b[43mi\u001b[49m)           \n\u001b[32m     15\u001b[39m \u001b[38;5;28mprint\u001b[39m (asallar)\n",
      "\u001b[31mUnboundLocalError\u001b[39m: cannot access local variable 'i' where it is not associated with a value"
     ]
    }
   ],
   "source": [
    "sayi = int(input(\"Bir sayi giriniz:\"))\n",
    "sayi2 = int(input(\"Baska bir sayi giriniz:\"))\n",
    "\n",
    "\n",
    "def asalsayilar (a, b):\n",
    "    asallar = []\n",
    "    if a < b:\n",
    "        a, b = b, a \n",
    "        for i in range(b,a):\n",
    "            for j in range(2,i):\n",
    "                if i % j == 0:\n",
    "                    break\n",
    "    else:\n",
    "        asallar.append(i)           \n",
    "    print (asallar)\n",
    "\n",
    "asalsayilar (sayi, sayi2)\n",
    "\n"
   ]
  },
  {
   "cell_type": "markdown",
   "metadata": {
    "id": "OqbcX2FPK1aY"
   },
   "source": [
    "# Problem 3\n",
    "YetGen liderlerinin kurdukları girişim unicorn oluyor. YetGen liderleri iş arkadaşlarının alacağı ücretlerini hesaplamak için bir fonksiyon yazdılar. Bu fonksiyonu kullanarak, YetGen liderlerinin iş arkadaşlarına verecekleri ücretleri hesaplayınız.\n",
    "\n",
    "Ücret hesaplanması çalışma saatine bağlıdır. Bunun için kullanıcıdan çalışma saati bilgisinn alın. Sonrasında yapılacak ödemenin hesaplanacağı computePay() adlı bir fonksiyon oluşturun. Bu fonksiyonun içinde işlemler yapın. Çalışma saati 40 ve altındaysa saat başına ücret 10 TL’dir. 40 saatin üstünde çalışıldıysa saat başına ücret 15 TL sayılmaktadır.\n",
    "\n",
    "```\n",
    "Test etmek için 30 saat değerini giriniz,  sonuç 300 TL çıkmalı, \n",
    "ikincil test olarak 50 değerini giriniz,  sonuç 750 TL çıkmalı.\n",
    "```"
   ]
  },
  {
   "cell_type": "code",
   "execution_count": null,
   "metadata": {
    "id": "Uhg6Gcc1K1aZ"
   },
   "outputs": [
    {
     "name": "stdout",
     "output_type": "stream",
     "text": [
      "Alacagınız ödeme: 750\n"
     ]
    }
   ],
   "source": [
    "saat = int(input(\"Total calısma saatinizi girin:\"))\n",
    "\n",
    "def computePay(saat):\n",
    "    odeme = 0\n",
    "    if saat <= 40:\n",
    "        odeme = saat*10\n",
    "    else:\n",
    "        odeme = saat*15\n",
    "    print(\"Alacagınız ödeme:\", odeme)    \n",
    "\n",
    "computePay (saat)"
   ]
  },
  {
   "cell_type": "markdown",
   "metadata": {
    "id": "V0BeBR90K1aZ"
   },
   "source": [
    "# Problem 4\n",
    "YetGenliler zirveye gitmek için toplanıyor. Zirveye gitmek için kiraladıkları araçlar 4'er kişiliktir. Gelecek kişi sayısı için Airtable üzerinde form açılıyor. Gelecek kişi sayısını alıp dört kişilik araçlara bölüp kalan kişi sayısını döndüren bir fonksiyon yazınız."
   ]
  },
  {
   "cell_type": "code",
   "execution_count": 15,
   "metadata": {
    "id": "AC8x-EQlK1aa"
   },
   "outputs": [
    {
     "name": "stdout",
     "output_type": "stream",
     "text": [
      "Zireveye katılacak kişi sayisi: 23\n",
      "Gereken araba sayısı: 5\n",
      "Kalan kişi sayısı: 3\n"
     ]
    }
   ],
   "source": [
    "kisiSayisi = int(input(\"Zirveye katılacak kişi sayısı:\"))\n",
    "\n",
    "def arabaKirala (sayi):\n",
    "    araba = sayi // 4\n",
    "    kalan = sayi % 4\n",
    "    \n",
    "    print(\"Gereken araba sayısı:\", araba)\n",
    "    print(\"Kalan kişi sayısı:\", kalan)\n",
    "\n",
    "print (\"Zireveye katılacak kişi sayisi:\", kisiSayisi)\n",
    "arabaKirala(kisiSayisi)    "
   ]
  },
  {
   "cell_type": "markdown",
   "metadata": {
    "id": "dWcDwEVjK1ab"
   },
   "source": [
    "# Problem 5\n",
    "sayiTopla() adında bir fonksiyon yazın. sayiTopla() fonksiyonu girilen sayıları toplayarak yazdırmasını sağlayan bir fonksiyon yazınız.\n",
    "\n",
    "Örneğin sayiTopla(1,2,3,4,5) yazdığımızda 15 çıktısını almalıyız. sayiTopla(1,2,3,4,5,6,7,8,9,10) yazdığımızda 55 çıktısını almalıyız."
   ]
  },
  {
   "cell_type": "code",
   "execution_count": 16,
   "metadata": {
    "id": "fmCZcLM2K1ad"
   },
   "outputs": [
    {
     "name": "stdout",
     "output_type": "stream",
     "text": [
      "55\n"
     ]
    }
   ],
   "source": [
    "def sayiTopla(*x):\n",
    "    toplam = 0\n",
    "    for i in x:\n",
    "        toplam += i\n",
    "    print (toplam)    \n",
    "\n",
    "sayiTopla (1, 2, 3, 4, 5, 6, 7, 8, 9, 10)"
   ]
  },
  {
   "cell_type": "markdown",
   "metadata": {
    "id": "kd9edMkoK1ae"
   },
   "source": [
    "# Problem 6\n",
    "\n",
    "[(\"xxx\",1),(\"xxx\",2),(\"xxx\",9),(\"xxx\",3), (\"xxx\",1),(\"xxx\",13),(\"xxx\",26),(\"xxx\",4)] listesi içerisinde verilen elemanların her birini tuple içindeki 2. Elemana göre sıralayınız. \n",
    "\n"
   ]
  },
  {
   "cell_type": "code",
   "execution_count": null,
   "metadata": {
    "id": "Jk4tgaH3K1af"
   },
   "outputs": [],
   "source": [
    "#fjljdlj"
   ]
  },
  {
   "cell_type": "markdown",
   "metadata": {
    "id": "V0yKbDraK1af"
   },
   "source": [
    "# Problem 7\n",
    "List comprehension kullanarak 1'den 100'e kadar olan sayılardan sadece çift sayıları bir listeye atmayı yapmayı çalışın."
   ]
  },
  {
   "cell_type": "code",
   "execution_count": 22,
   "metadata": {
    "id": "iHosmISJK1ag"
   },
   "outputs": [
    {
     "name": "stdout",
     "output_type": "stream",
     "text": [
      "[0, 2, 4, 6, 8, 10, 12, 14, 16, 18, 20, 22, 24, 26, 28, 30, 32, 34, 36, 38, 40, 42, 44, 46, 48, 50, 52, 54, 56, 58, 60, 62, 64, 66, 68, 70, 72, 74, 76, 78, 80, 82, 84, 86, 88, 90, 92, 94, 96, 98, 100]\n"
     ]
    }
   ],
   "source": [
    "liste = [i for i in range(0,101) if i % 2 == 0]\n",
    "\n",
    "print (liste)"
   ]
  }
 ],
 "metadata": {
  "colab": {
   "provenance": []
  },
  "kernelspec": {
   "display_name": "Python 3",
   "language": "python",
   "name": "python3"
  },
  "language_info": {
   "codemirror_mode": {
    "name": "ipython",
    "version": 3
   },
   "file_extension": ".py",
   "mimetype": "text/x-python",
   "name": "python",
   "nbconvert_exporter": "python",
   "pygments_lexer": "ipython3",
   "version": "3.11.9"
  },
  "orig_nbformat": 4
 },
 "nbformat": 4,
 "nbformat_minor": 0
}
