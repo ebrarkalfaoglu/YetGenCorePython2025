{
 "cells": [
  {
   "cell_type": "markdown",
   "metadata": {
    "id": "Rm1DKmXZM-Ja"
   },
   "source": [
    "# Problem 1\n",
    "\n",
    "Fizikte, bir nesnenin sabit ivmeyle hareket ederken son hızını \n",
    "(veya hızını) bulmak için aşağıdaki denklem kullanılabilir:\n",
    "```\n",
    "vf = vi + at\n",
    "burada:\n",
    "vf= son hız\n",
    "vi= ilk hız\n",
    "a= hızlanma\n",
    "t= zaman\n",
    "```\n",
    "İlk hız, ivme ve zaman verildiğinde, son hızı döndürecek bir fonksiyon yazın."
   ]
  },
  {
   "cell_type": "code",
   "execution_count": 7,
   "metadata": {
    "id": "vWrjJiV0M-Jk"
   },
   "outputs": [
    {
     "name": "stdout",
     "output_type": "stream",
     "text": [
      "Aracın son hızı: 80.0\n"
     ]
    }
   ],
   "source": [
    "ilkHiz = int(input(\"İlk hızı giriniz(m/s cinsinden):\"))\n",
    "ivme = float(input(\"İvmeyi giriniz:\"))\n",
    "zaman = int(input(\"Zamanı giriniz(sn cinsinden):\"))\n",
    "\n",
    "def sonHizHesapla (ilkHiz, ivme, zaman):\n",
    "    sonhiz = ilkHiz + ivme*zaman\n",
    "    return sonhiz\n",
    "\n",
    "\n",
    "print (\"Aracın son hızı:\", sonHizHesapla(ilkHiz, ivme, zaman))    "
   ]
  },
  {
   "cell_type": "markdown",
   "metadata": {
    "id": "uAHpyY5HM-Jq"
   },
   "source": [
    "# Problem 2\n",
    "\n",
    "1'den 1000'e kadar olan sayılardan mükemmel sayı olanları ekrana yazdırın. Bunun için bir sayının mükemmel olup olmadığını dönen bir tane fonksiyon yazın.\n",
    "\n",
    "Bir sayının bölenlerinin toplamı kendine eşitse bu sayı mükemmel bir sayıdır. Örnek olarak 6 mükemmel bir sayıdır (1 + 2 + 3 = 6)."
   ]
  },
  {
   "cell_type": "code",
   "execution_count": 13,
   "metadata": {
    "id": "yrY4Y5ncM-Jr"
   },
   "outputs": [
    {
     "name": "stdout",
     "output_type": "stream",
     "text": [
      "6\n",
      "28\n",
      "496\n"
     ]
    }
   ],
   "source": [
    "def mukemmelMi (sayi):\n",
    "    toplam = 0\n",
    "    for i in range(1,sayi):\n",
    "        if sayi % i == 0:\n",
    "            toplam += i\n",
    "\n",
    "    if toplam == sayi:\n",
    "        return True\n",
    "    else:\n",
    "        return False \n",
    "\n",
    "for i in range(1, 1001):\n",
    "    if mukemmelMi (i):\n",
    "        print(i)"
   ]
  },
  {
   "cell_type": "markdown",
   "metadata": {
    "id": "C2-XwlJtM-Jr"
   },
   "source": [
    "# Problem 3\n",
    "\n",
    "1'den 100'e kadar olan sayılardan pisagor üçgeni oluşturanları ekrana yazdıran bir fonksiyon yazın.(a <= 100,b <= 100)\n"
   ]
  },
  {
   "cell_type": "code",
   "execution_count": null,
   "metadata": {
    "id": "BMNy4xi-M-Js"
   },
   "outputs": [
    {
     "name": "stdout",
     "output_type": "stream",
     "text": [
      "3 4 5\n",
      "5 12 13\n",
      "6 8 10\n",
      "7 24 25\n",
      "8 15 17\n",
      "9 12 15\n",
      "9 40 41\n",
      "10 24 26\n",
      "11 60 61\n",
      "12 16 20\n",
      "12 35 37\n",
      "13 84 85\n",
      "14 48 50\n",
      "15 20 25\n",
      "15 36 39\n",
      "16 30 34\n",
      "16 63 65\n",
      "18 24 30\n",
      "18 80 82\n",
      "20 21 29\n",
      "20 48 52\n",
      "20 99 101\n",
      "21 28 35\n",
      "21 72 75\n",
      "24 32 40\n",
      "24 45 51\n",
      "24 70 74\n",
      "25 60 65\n",
      "27 36 45\n",
      "28 45 53\n",
      "28 96 100\n",
      "30 40 50\n",
      "30 72 78\n",
      "32 60 68\n",
      "33 44 55\n",
      "33 56 65\n",
      "35 84 91\n",
      "36 48 60\n",
      "36 77 85\n",
      "39 52 65\n",
      "39 80 89\n",
      "40 42 58\n",
      "40 75 85\n",
      "40 96 104\n",
      "42 56 70\n",
      "45 60 75\n",
      "48 55 73\n",
      "48 64 80\n",
      "48 90 102\n",
      "51 68 85\n",
      "54 72 90\n",
      "56 90 106\n",
      "57 76 95\n",
      "60 63 87\n",
      "60 80 100\n",
      "60 91 109\n",
      "63 84 105\n",
      "65 72 97\n",
      "66 88 110\n",
      "69 92 115\n",
      "72 96 120\n",
      "75 100 125\n",
      "80 84 116\n"
     ]
    }
   ],
   "source": [
    "def pisagorUcgenleri():\n",
    "    for a in range(1, 101):\n",
    "        for b in range(a, 101):  \n",
    "            c = (a * a + b * b) ** 0.5  \n",
    "            if c == int(c):  \n",
    "                print(a, b, int(c)) \n",
    "\n",
    "pisagorUcgenleri()"
   ]
  },
  {
   "cell_type": "markdown",
   "metadata": {
    "id": "oPfmWi4jM-Js"
   },
   "source": [
    "# Problem 4\n",
    "\n",
    "Bir duvar boyamaya karar verdiniz. Boya kutusunun üzerindeki talimatta, 1 kutu boyanın 5 metrekarelik bir duvarı boyayabileceği yazıyor. Rastgele bir duvar yüksekliği ve genişliği verildiğinde, kaç kutu boya satın almanız gerektiğini hesaplayın.\n",
    "\n",
    "kutu sayısı = (duvar yüksekliği * duvar genişliği) ÷ kutu başına kaplama.\n",
    "\n",
    "örneğin Yükseklik = 2, Genişlik = 4, Kaplama = 5\n",
    "\n",
    "kutu sayısı = (2 * 4) ÷ 5 = 1.6\n",
    "\n",
    "Ancak bir kutu boyanın 0,6'sını satın alamayacağınız için, sonuç 2 kutuya yuvarlanmalıdır .\n"
   ]
  },
  {
   "cell_type": "code",
   "execution_count": 6,
   "metadata": {
    "id": "0zuyzSp5M-Jt"
   },
   "outputs": [
    {
     "name": "stdout",
     "output_type": "stream",
     "text": [
      "İhtiyacınız olan boya kutusu: 2\n"
     ]
    }
   ],
   "source": [
    "yukseklik = int(input(\"Duvarın yüksekligini giriniz:\"))\n",
    "genislik = int(input(\"Duvarın genislini giriniz:\"))\n",
    "\n",
    "kutu = (yukseklik * genislik ) / 5\n",
    "\n",
    "kutu2 = -(-kutu //1)\n",
    "\n",
    "print(\"İhtiyacınız olan boya kutusu:\", int(kutu2))"
   ]
  },
  {
   "cell_type": "markdown",
   "metadata": {
    "id": "pe6TJuBBM-Ju"
   },
   "source": [
    "# Problem 5\n",
    "\n",
    "Bir kelimedeki ünlü ve ünsüz harfleri sayan bir fonksiyon yazınız."
   ]
  },
  {
   "cell_type": "code",
   "execution_count": 25,
   "metadata": {
    "id": "LJ0opjiLM-Ju"
   },
   "outputs": [
    {
     "name": "stdout",
     "output_type": "stream",
     "text": [
      "Girdiginiz kelime: yetgen\n",
      "Girdiginiz kelimedeki unlü harf sayısı: 2\n",
      "Girdiğiniz kelimedeki unsuz harf sayısı: 4\n"
     ]
    }
   ],
   "source": [
    "kelime = input(\"Bir kelime giriniz:\")\n",
    "\n",
    "uzunluk = len (kelime)\n",
    "unlu = 0\n",
    "unsuz = 0\n",
    "\n",
    "for i in range(uzunluk):\n",
    "    if kelime[i] in ('a', 'e', 'ı', 'i', 'o', 'ö', 'u', 'ü'):  \n",
    "        unlu += 1\n",
    "    else:\n",
    "        unsuz += 1\n",
    "\n",
    "print(\"Girdiginiz kelime:\", kelime)\n",
    "print (\"Girdiginiz kelimedeki unlü harf sayısı:\",unlu)\n",
    "print (\"Girdiğiniz kelimedeki unsuz harf sayısı:\", unsuz)            "
   ]
  },
  {
   "cell_type": "markdown",
   "metadata": {
    "id": "Lfls2YTXM-Jv"
   },
   "source": [
    "# Problem 6\n",
    "\n",
    "Verilen bir listeden çift sayıları yazdıran bir fonksiyon yazınız.\n"
   ]
  },
  {
   "cell_type": "code",
   "execution_count": 33,
   "metadata": {
    "id": "qUwsL20IM-Jv"
   },
   "outputs": [
    {
     "name": "stdout",
     "output_type": "stream",
     "text": [
      "[4, 8, 2, 20, 12]\n"
     ]
    }
   ],
   "source": [
    "liste = [7, 4, 8, 2, 11, 9, 20, 12]\n",
    "\n",
    "\n",
    "def ciftMi (liste):\n",
    "    yeniListe = []\n",
    "\n",
    "    for i in liste:\n",
    "        if i % 2 == 0:\n",
    "            yeniListe.append(i)\n",
    "    print (yeniListe)        \n",
    "\n",
    "ciftMİ(liste)"
   ]
  },
  {
   "cell_type": "markdown",
   "metadata": {
    "id": "IPp724iIM-Jy"
   },
   "source": [
    "# Problem 7\n",
    "\n",
    "0'dan 10'a kadar olan sayıların toplamını hesaplayan özyinelemeli (Recursive Function) bir fonksiyon oluşturan bir fonksiyon yazınız.\n",
    "\n",
    "Özyinelemeli (Recursive Function) bir işlev, kendini tekrar tekrar çağıran bir işlevdir."
   ]
  },
  {
   "cell_type": "code",
   "execution_count": 1,
   "metadata": {
    "id": "KFW6xhTJM-Jz"
   },
   "outputs": [
    {
     "name": "stdout",
     "output_type": "stream",
     "text": [
      "55\n"
     ]
    }
   ],
   "source": [
    "def topla (sayi):\n",
    "    if sayi == 0:\n",
    "        return 0\n",
    "    return sayi + topla(sayi - 1)\n",
    "\n",
    "\n",
    "print (topla (10))"
   ]
  }
 ],
 "metadata": {
  "colab": {
   "provenance": []
  },
  "kernelspec": {
   "display_name": "Python 3",
   "language": "python",
   "name": "python3"
  },
  "language_info": {
   "codemirror_mode": {
    "name": "ipython",
    "version": 3
   },
   "file_extension": ".py",
   "mimetype": "text/x-python",
   "name": "python",
   "nbconvert_exporter": "python",
   "pygments_lexer": "ipython3",
   "version": "3.11.9"
  },
  "orig_nbformat": 4
 },
 "nbformat": 4,
 "nbformat_minor": 0
}
