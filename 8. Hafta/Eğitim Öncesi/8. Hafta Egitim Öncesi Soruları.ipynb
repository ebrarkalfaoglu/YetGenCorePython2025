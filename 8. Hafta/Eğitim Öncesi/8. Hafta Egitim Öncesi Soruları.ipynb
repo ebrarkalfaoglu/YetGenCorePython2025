{
 "cells": [
  {
   "cell_type": "markdown",
   "metadata": {
    "id": "Pzh44PAE5H61"
   },
   "source": [
    "# Problem 1 \n",
    "Kullanıcıdan aldığı ürün bilgisini (ad, fiyat) urunler.txt dosyasına kayıt eden fonksiyonu yazınız."
   ]
  },
  {
   "cell_type": "code",
   "execution_count": null,
   "metadata": {
    "id": "uKw3Wap95H64"
   },
   "outputs": [
    {
     "name": "stdout",
     "output_type": "stream",
     "text": [
      "kalem - 55\n",
      "\n",
      "defter - 30\n",
      "\n",
      "uç - 10\n",
      "\n"
     ]
    }
   ],
   "source": [
    "file = open(\"urunler.txt\", \"w\", encoding=\"utf-8\")\n",
    "\n",
    "while True:\n",
    "    a = input(\"Ürünün isim bilgisini giriniz (çıkmak için q): \")\n",
    "    if a.lower() == \"q\":\n",
    "        break\n",
    "    b = input(\"Ürünün fiyat bilgisini giriniz: \")\n",
    "    file.write(f\"{a} - {b}\\n\")\n",
    "\n",
    "file.close()  \n",
    "\n",
    "with open(\"urunler.txt\", \"r\", encoding=\"utf-8\") as file:\n",
    "    for i in file:\n",
    "        print(i)        \n",
    "  "
   ]
  },
  {
   "cell_type": "markdown",
   "metadata": {
    "id": "Lw7xy19D5H66"
   },
   "source": [
    "# Problem 2\n",
    "1.problemde oluşturulan text dosyası içerisinde kullanıcıdan alacağımız eski kelime isimli değişkene atadığımız \n",
    "ve değiştirilmesini istediğimiz kelimemizi yerini alıcak olan yeni kelime isimli değişkene atayın. Belirlenen kelimeleri text dosyasında değiştiren fonksiyonu yazınız."
   ]
  },
  {
   "cell_type": "code",
   "execution_count": 4,
   "metadata": {
    "id": "jDlym3ko5H66"
   },
   "outputs": [
    {
     "name": "stdout",
     "output_type": "stream",
     "text": [
      "kalem - 55\n",
      "not defteri - 30\n",
      "uç - 10\n",
      "\n"
     ]
    }
   ],
   "source": [
    "eskiKelime = \"defter\"\n",
    "yeniKelime = \"not defteri\"\n",
    "\n",
    "\n",
    "with open(\"urunler.txt\", \"r\", encoding=\"utf-8\") as file:\n",
    "    satirlar = []\n",
    "    for satir in file:\n",
    "        if eskiKelime in satir:\n",
    "            yeniSatir = satir.split(eskiKelime)\n",
    "            satir = yeniKelime.join(yeniSatir)\n",
    "        satirlar.append(satir)\n",
    "\n",
    "\n",
    "with open(\"urunler.txt\", \"w\", encoding=\"utf-8\") as file:\n",
    "    for satir in satirlar:\n",
    "        file.write(satir)\n",
    "\n",
    "\n",
    "with open(\"urunler.txt\", \"r\", encoding=\"utf-8\") as file:\n",
    "    print(file.read())\n"
   ]
  },
  {
   "cell_type": "markdown",
   "metadata": {
    "id": "3aSYk4FF5H67"
   },
   "source": [
    "# Problem 3\n",
    "Vehicle sınıfının tüm değişkenlerini ve yöntemlerini devralacak bir alt sınıf olarak Bus sınıfı oluşturunuz.\n",
    "\n",
    "\n",
    "\n",
    "```\n",
    "Output\n",
    "> Name: School Volvo Speed: 180 Mileage: 12\n",
    "```\n"
   ]
  },
  {
   "cell_type": "code",
   "execution_count": 5,
   "metadata": {
    "id": "PwCI6Xkb5H68"
   },
   "outputs": [],
   "source": [
    "class Vehicle():\n",
    "    def __init__(self, speed, mileage):\n",
    "        self.speed =speed\n",
    "        self.mileage = mileage\n",
    "\n",
    "class Bus (Vehicle):\n",
    "    pass      "
   ]
  }
 ],
 "metadata": {
  "colab": {
   "provenance": []
  },
  "kernelspec": {
   "display_name": "Python 3",
   "language": "python",
   "name": "python3"
  },
  "language_info": {
   "codemirror_mode": {
    "name": "ipython",
    "version": 3
   },
   "file_extension": ".py",
   "mimetype": "text/x-python",
   "name": "python",
   "nbconvert_exporter": "python",
   "pygments_lexer": "ipython3",
   "version": "3.11.9"
  },
  "orig_nbformat": 4,
  "vscode": {
   "interpreter": {
    "hash": "5026d2d6e7aaaaba093def813beadff083d8733e4a511af01735cbabd156995d"
   }
  }
 },
 "nbformat": 4,
 "nbformat_minor": 0
}
