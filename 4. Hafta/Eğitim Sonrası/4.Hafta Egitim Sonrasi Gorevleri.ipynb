{
 "cells": [
  {
   "cell_type": "markdown",
   "metadata": {},
   "source": [
    "# Problem 1\n",
    "`ogrenciler` adında bir sözlük oluşturunuz. Kullanıcıdan döngü yardımıyla 3 öğrenci için veri girmesini isteyerek öğrencilerin sırasıyla okul numarası, isim, soy isim, telefon numarası ve doğum tarihi bilgilerini alınız. Aldığınız öğrenci bilgilerini yine aynı döngü yardımıyla `ogrenciler` adındaki sözlükte saklayınız. Daha sonra öğrenci bilgilerinin bulunduğu sözlük yapısını ekrana bastırınız.\n",
    "\n"
   ]
  },
  {
   "cell_type": "code",
   "execution_count": 8,
   "metadata": {},
   "outputs": [
    {
     "name": "stdout",
     "output_type": "stream",
     "text": [
      "Ogrencini okul numarasi: 202189665\n",
      "Ogrencinin ismi: Deniz\n",
      "Ogrencinin soy ismi: Kaya\n",
      "Ogrencinin telefon numarası: 054646416544\n",
      "Ogrencinin dogum tarihi: 2000\n",
      "  \n",
      "--------\n",
      "Ogrencini okul numarasi: 202256464645\n",
      "Ogrencinin ismi: Berra\n",
      "Ogrencinin soy ismi: Karamese\n",
      "Ogrencinin telefon numarası: 05441646464\n",
      "Ogrencinin dogum tarihi: 2003\n",
      "  \n",
      "--------\n",
      "Ogrencini okul numarasi: 20065464\n",
      "Ogrencinin ismi: Can\n",
      "Ogrencinin soy ismi: Ozcan\n",
      "Ogrencinin telefon numarası: 056464641354\n",
      "Ogrencinin dogum tarihi: 2004\n",
      "  \n",
      "--------\n"
     ]
    }
   ],
   "source": [
    "ogrenciler = {}\n",
    "for i in range(0,3):\n",
    "    no = input(\"Ogrencinin okul numarasi:\")\n",
    "    isim = input(\"Ogrencinin ismi:\")\n",
    "    s_isim = input(\"Ogrencinin soy ismi:\")\n",
    "    tel = input(\"Ogrencinin telefonu:\")\n",
    "    dg = input(\"Ogrencinin dogum tarihi:\")\n",
    "\n",
    "    ogrenciler [no] : [isim, s_isim, tel, dg]\n",
    "    \n",
    "\n",
    "    print(f\"Ogrencini okul numarasi: {no}\")\n",
    "    print(f\"Ogrencinin ismi: {isim}\")\n",
    "    print(f\"Ogrencinin soy ismi: {s_isim}\")\n",
    "    print(f\"Ogrencinin telefon numarası: {tel}\")\n",
    "    print(f\"Ogrencinin dogum tarihi: {dg}\")\n",
    "    print(\"  \")\n",
    "    print(\"--------\")\n",
    "\n"
   ]
  },
  {
   "cell_type": "markdown",
   "metadata": {},
   "source": [
    "# Problem 2\n",
    "\n",
    "### a - Biraz ısınarak başlayalım!\n",
    "\n",
    "```\n",
    "numbers = [5,10,10,15,15,15,20,20,20,20]\n",
    "```\n",
    "\n",
    "Yukarıda `numbers` adında 10 elemanlı bir liste verilmiştir. Bu listenin her elemanını kontrol eden ve tekrar eden elemanları bir kez olacak şekilde başka bir listeye kopyalayan bir program yazınız. Son olarak oluşturduğunuz listeyi ekrana bastırınız.\n",
    "\n",
    "\n",
    "\n",
    "\n",
    "```\n",
    ">Output\n",
    "[5, 10, 15, 20]\n",
    "```\n"
   ]
  },
  {
   "cell_type": "code",
   "execution_count": 14,
   "metadata": {},
   "outputs": [
    {
     "name": "stdout",
     "output_type": "stream",
     "text": [
      "{10, 20, 5, 15}\n"
     ]
    }
   ],
   "source": [
    "numbers = [5, 10, 10, 15, 15, 15, 20, 20, 20, 20]\n",
    "\n",
    "numbers2 = set()\n",
    "\n",
    "for number in numbers:\n",
    "    numbers2.add(number)\n",
    "print (numbers2)    "
   ]
  },
  {
   "cell_type": "markdown",
   "metadata": {},
   "source": [
    "### 🌶️ b) Hadi işi biraz daha zorlaştıralım! \n",
    "\n",
    "\n",
    "Şimdiyse senden `numbers` isimli listedeki tekrar eden elemanları `repeatNumbers` adındaki listeye; tekrar etmeyen elemanları `uniqueNumbers`adındaki listeye kopyalayan yazmanı ve listeleri ekrana bastırmanı bekliyoruz\n",
    "\n",
    "```\n",
    ">Output\n",
    "Tekrar Eden Elemanlar: [10, 10, 15, 15, 15, 20, 20, 20, 20]\n",
    "Tekrar Etmeyen Elemanlar: [5]\n",
    "```"
   ]
  },
  {
   "cell_type": "code",
   "execution_count": 15,
   "metadata": {},
   "outputs": [
    {
     "name": "stdout",
     "output_type": "stream",
     "text": [
      "Tekrar Eden Elemanlar:  [10, 10, 15, 15, 15, 20, 20, 20, 20]\n",
      "Tekrar Etmeyen Elemanlar: [5]\n"
     ]
    }
   ],
   "source": [
    "numbers = [5, 10, 10, 15, 15, 15, 20, 20, 20, 20]\n",
    "\n",
    "unique = []\n",
    "repeat = []\n",
    "\n",
    "for number in numbers:\n",
    "    if numbers.count(number) == 1:\n",
    "        unique.append(number)\n",
    "    else:\n",
    "        repeat.append(number)\n",
    "\n",
    "print(\"Tekrar Eden Elemanlar: \", repeat)\n",
    "print(\"Tekrar Etmeyen Elemanlar:\", unique)"
   ]
  },
  {
   "cell_type": "markdown",
   "metadata": {},
   "source": [
    "# Problem 3\n",
    "sn1 = {1,2,3,4,5}\n",
    "\n",
    "sn2 = {4,5,6,7,8}\n",
    "\n",
    " Verilen 2 adet küme için kesişimlerini, farklarını ve birleşimlerini bulunuz. "
   ]
  },
  {
   "cell_type": "code",
   "execution_count": 17,
   "metadata": {},
   "outputs": [
    {
     "name": "stdout",
     "output_type": "stream",
     "text": [
      "1. Küme:  {1, 2, 3, 4, 5}\n",
      "2. Küme:  {4, 5, 6, 7, 8}\n",
      "İki kümenin kesişim elemanları: {4, 5}\n",
      "İki kümenin fark elemanları: {1, 2, 3}\n",
      "İki kümenin birleşim elemanları: {1, 2, 3, 4, 5, 6, 7, 8}\n"
     ]
    }
   ],
   "source": [
    "sn1 = {1, 2, 3, 4, 5}\n",
    "sn2 = {4, 5, 6, 7, 8}\n",
    "\n",
    "print(\"1. Küme: \", sn1)\n",
    "print(\"2. Küme: \", sn2)\n",
    "\n",
    "print(\"İki kümenin kesişim elemanları:\", sn1.intersection(sn2))\n",
    "print(\"İki kümenin fark elemanları:\", sn1.difference(sn2))\n",
    "print(\"İki kümenin birleşim elemanları:\", sn1.union(sn2))"
   ]
  },
  {
   "cell_type": "markdown",
   "metadata": {},
   "source": [
    "# Problem 4\n",
    "\n",
    "Buradaki işlemlerimizin tamamı stringler içindir. Aşağıda verilecek olan metodlar için kendinizin örnek yaratması gerekmektedir. \n",
    "\n",
    "Örneğin `upper` için `string` değişkeni oluştururken` k = \"BAC\"` şeklinde oluşturmayınız. Bunun yerine k değişkenini `k = \"bac`\" şeklinde oluşturmanız `upper` metodundaki değişimi görebilmeniz için daha iyi olacaktır.\n",
    "\n",
    "Bütün metodlardaki değişimin gözle görülür şekilde değişimi beklenmektedir.\n",
    "\n",
    "\n",
    "1- capitalize(), lower(), upper(), swapcase(), title(), replace()\n",
    "\n",
    "2- endswith(), startswith(), find(), index(), count()\n",
    "\n",
    "3- split(), strip(), join(), islower(), isalpha(), isdigit()\n",
    "\n",
    "\n",
    "Yukarıdaki `string` metodlarındaki değişimleri görebildiğimiz bir program yazınız.\n"
   ]
  },
  {
   "cell_type": "code",
   "execution_count": 54,
   "metadata": {},
   "outputs": [
    {
     "name": "stdout",
     "output_type": "stream",
     "text": [
      "Yetgen ile python ögreniyorum.\n",
      "YETGEN ILE PYTHON ÖGRENIYORUM.\n",
      "yetgen ile python ögreniyorum.\n",
      "YEtgen ilE pytHON OGreni̇yorum.\n",
      "Yetgen Ile Python Ogreni̇Yorum.\n",
      "Merhaba Python!\n",
      "True\n",
      "False\n",
      "8\n",
      "0\n",
      "2\n",
      "['Yetgen', 'ile', 'Python', 'Ogrenmek', 'Cok', 'Keyifli']\n",
      "Yetgen ile Python Ogrenmek Cok Keyifli\n",
      "Yetgen Core Python\n",
      "False\n",
      "False\n",
      "True\n"
     ]
    }
   ],
   "source": [
    "#1\n",
    "str = \"yetgen ile python ögreniyorum.\"\n",
    "str = str.capitalize()\n",
    "print (str)\n",
    "\n",
    "str2 = str.upper()\n",
    "print(str2)\n",
    "\n",
    "str3 = str2.lower()\n",
    "print(str3)\n",
    "\n",
    "str3 = \"yeTGEN ILe PYThon ogRENİYORUM.\"\n",
    "str4 = str3.swapcase()\n",
    "print(str4)\n",
    "\n",
    "str5 = str4.title()\n",
    "print(str5)\n",
    "\n",
    "str6 = \"Merhaba Dünya!\"\n",
    "str6 = str6.replace(\"Dünya\", \"Python\")\n",
    "print (str6)\n",
    "\n",
    "#2\n",
    "print(str6.endswith(\"Python!\"))\n",
    "print(str6.startswith(\"Yetgen\"))\n",
    "\n",
    "print(str6.find(\"Python\"))\n",
    "\n",
    "print(str6.index(\"Merhaba\"))\n",
    "\n",
    "print(str6.count(\"a\"))\n",
    "\n",
    "#3\n",
    "str7 = \"Yetgen-ile-Python-Ogrenmek-Cok-Keyifli\"\n",
    "str7 = str7.split(\"-\")\n",
    "print(str7)\n",
    "\n",
    "str8 = \",,,,,Yetgen ile Python Ogrenmek Cok Keyifli,,,,,\"\n",
    "str8 = str8.strip(\",\")\n",
    "print(str8)\n",
    "\n",
    "str9 = [\"Yetgen\", \"Core\", \"Python\"]\n",
    "str9 = \" \".join(str9)\n",
    "print(str9)\n",
    "\n",
    "str9 = \"Yetgen Core Python\"\n",
    "print(str9.islower())\n",
    "\n",
    "print(str9.isalpha())\n",
    "\n",
    "str9 = \"2025\"\n",
    "print(str9.isdigit())"
   ]
  }
 ],
 "metadata": {
  "kernelspec": {
   "display_name": "Python 3",
   "language": "python",
   "name": "python3"
  },
  "language_info": {
   "codemirror_mode": {
    "name": "ipython",
    "version": 3
   },
   "file_extension": ".py",
   "mimetype": "text/x-python",
   "name": "python",
   "nbconvert_exporter": "python",
   "pygments_lexer": "ipython3",
   "version": "3.11.9"
  },
  "orig_nbformat": 4
 },
 "nbformat": 4,
 "nbformat_minor": 2
}
