{
 "cells": [
  {
   "cell_type": "markdown",
   "metadata": {
    "id": "-My6RWLrhXIq"
   },
   "source": [
    "# Problem 1\n",
    "Sözlükleri kullanarak bir telefon rehberi yazın. Bu rehberde kullanıcıya kimin telefonunu görüntülemek istediğini sorun ve kullanıcının girdiği isme göre o kişinin telefon numarasını yazdırın. Proje sonunda elde edeceğiniz çıktı  şuna benzer olmalı:\n",
    "\n",
    "\n",
    "Lütfen numarasını öğrenmek istediğiniz kişinin adını girin: Ahmet\n",
    "\n",
    "Ahmet isimli kişinin numarası şu şekildedir: 0532 678 13 19"
   ]
  },
  {
   "cell_type": "code",
   "execution_count": 3,
   "metadata": {
    "id": "LHIQEhchhXIu"
   },
   "outputs": [
    {
     "name": "stdout",
     "output_type": "stream",
     "text": [
      "Merve isimli kişinin numarası şudur: 0502 417 25 74\n"
     ]
    }
   ],
   "source": [
    "rehber = {\n",
    "    \"Ahmet\": \"0532 678 13 19\",\n",
    "    \"Ayse\": \"0554 874 12 69\",\n",
    "    \"Merve\": \"0502 417 25 74\",\n",
    "    \"Karan\": \"0545 587 65 23\"\n",
    "}\n",
    "\n",
    "isim = input(\"Lütfen numarasını öğrenmek istediğiniz kişinin adını girin: \")\n",
    "\n",
    "if isim in rehber:\n",
    "    print(f\"{isim} isimli kişinin numarası şudur: {rehber[isim]}\")\n",
    "else:\n",
    "    print(\"Bu isim rehberde bulunmamaktadır.\")\n"
   ]
  },
  {
   "cell_type": "markdown",
   "metadata": {
    "id": "rlgfjEi7hXIv"
   },
   "source": [
    "# Problem 2\n",
    "Sözlükleri kullanarak bir şirket çalışanları indeksi oluşturun. Bu isim indeksinde kişilerin isimleri key, kişilerin  memleket, yaş ve görev bilgileri value olmalıdır. Burada kullanacağımız value değerleri liste olmalıdır.\n",
    "\n",
    "\n",
    "Daha sonra bir isim sorgulama ekranı gibi kullanıcıya kimin bilgilerini görüntülemek istediğini \n",
    "sorun ve sorgulanan kişinin ekranda gösterilmesini sağlayın. Proje sonunda elde edeceğiniz çıktı şu şekilde olmalı:\n",
    "\n",
    "\n",
    "Lütfen bilgilerini görüntülemek istediğiniz çalışanın ismini girin: Mehmet Yağız\n",
    "\n",
    "Mehmet Yağız= Memleket: Adana Yaş: 40 Görev: Direktör"
   ]
  },
  {
   "cell_type": "code",
   "execution_count": 3,
   "metadata": {
    "id": "O09zrrs0hXIv"
   },
   "outputs": [
    {
     "name": "stdout",
     "output_type": "stream",
     "text": [
      "Merve Celik - Memleket: {'Memleket': 'Ankara', 'Yas': 23, 'Gorev': 'Mühendis'}\n"
     ]
    }
   ],
   "source": [
    "calisanlar = {\n",
    "    \"Ali Demir\": {\"Memleket\": \"Antalya\", \"Yas\": 34, \"Gorev\": \"Müdür\"},\n",
    "    \"Merve Celik\": {\"Memleket\": \"Ankara\", \"Yas\": 23, \"Gorev\": \"Mühendis\"},\n",
    "    \"Asli Karahan\": {\"Memleket\": \"Sivas\", \"Yas\": 41, \"Gorev\": \"Muhasebeci\"}\n",
    "}\n",
    "\n",
    "isim = input(\"Lütfen bilgilerini görüntülemek istediğiniz çalışanın ismini giriniz: \")\n",
    "\n",
    "if isim in calisanlar:\n",
    "    print(f\"{isim} - Memleket: {calisanlar[isim]}\")\n",
    "else:\n",
    "    print(\"Bu isimde bir çalışanımız yoktur.\")\n"
   ]
  },
  {
   "cell_type": "markdown",
   "metadata": {
    "id": "G67ztXG-hXIw"
   },
   "source": [
    "# Problem 3\n",
    "\n",
    "3 öğrenciden oluşan bir öğrenci not sözlüğü oluşturun. Bu sözlükte öğrencilerin notları value olarak bir listede toplansın.\n",
    "\n",
    "Kullanıcıya hangi öğrencinin notlarını görmek istediğini sorun. Öğrencinin notu görüntülendiğinde program sonunda şöyle bir çıktı elde etmelisiniz:\n",
    "\n",
    "```\n",
    "Lütfen notlarını görmek istediğiniz öğrencinin adını girin: Mehmet\n",
    "\n",
    "Mehmet isimli öğrencinin      1.Sınav Notu:72\n",
    "                              2.Sınav Notu:66\n",
    "                              3.Sınav Notu:48\n",
    "Not Ortalaması: 62.0\n"
   ]
  },
  {
   "cell_type": "code",
   "execution_count": 32,
   "metadata": {
    "id": "TXQ_fuCHhXIw"
   },
   "outputs": [
    {
     "name": "stdout",
     "output_type": "stream",
     "text": [
      "Ayse isimli öğrencinin sınav notları:\n",
      "1. sınav notu: 42\n",
      "2. sınav notu: 89\n",
      "3. sınav notu: 85\n",
      "Ortalama: 72.0\n"
     ]
    }
   ],
   "source": [
    "ögrenciler = {\n",
    "    \"Mehmet\" : [72, 66, 48],\n",
    "    \"Ayse\" :   [42, 89, 85],\n",
    "    \"Selim\" : [70, 66, 92]\n",
    "}\n",
    "isim = input(\"Lütfen notlarını görmek istediğiniz öğrencinin adını girin:\")\n",
    "notlar = ögrenciler[isim]\n",
    "\n",
    "print(f\"{isim} isimli öğrencinin sınav notları:\")\n",
    "\n",
    "i=1 \n",
    "for n in notlar:\n",
    "    print(f\"{i}. sınav notu: {n}\")\n",
    "    i+=1\n",
    "\n",
    "ort = sum(notlar)/len(notlar)\n",
    "print (f\"Ortalama: {ort}\")    "
   ]
  },
  {
   "cell_type": "markdown",
   "metadata": {
    "id": "oel6A5WFhXIw"
   },
   "source": [
    "# Problem 4"
   ]
  },
  {
   "cell_type": "code",
   "execution_count": 29,
   "metadata": {
    "id": "jVRdspCrhXIx"
   },
   "outputs": [
    {
     "name": "stdout",
     "output_type": "stream",
     "text": [
      "4\n",
      "Bmw\n",
      "Mazda\n",
      "Opel\n",
      "['Bmw', 'Mercedes', 'Opel']\n",
      "['Audi', 'Toyota', 'Renault', 'Mercedes', 'Bmw']\n",
      "Ad: Yiğit Bilgi, Doğum Yılı: 2010, Notlar: (70, 60, 70)\n",
      "Ad: Sena Turan, Doğum Yılı: 1999, Notlar: (80, 80, 70)\n",
      "Ad: Ahmet Turan, Doğum Yılı: 1998, Notlar: (80, 70, 90)\n",
      "Ali listede var.\n",
      "['Cenk', 'Hakan', 'Yağmur', 'Ali', 'Sena']\n",
      "['Ali', 'Cenk', 'Hakan', 'Sena', 'Yağmur']\n",
      "[1987, 1998, 1998, 2000]\n",
      "['Chevrolet', 'Dacia']\n",
      "2\n",
      "[]\n",
      "['zara', 'berskha', 'nike']\n"
     ]
    }
   ],
   "source": [
    "# 1-  \"Bmw, Mercedes, Opel, Mazda\" elemanlarına sahip bir liste oluşturunuz.\n",
    "arabalar = [\"Bmw\", \"Mercedes\", \"Opel\", \"Mazda\"]\n",
    "\n",
    "# 2-  Liste Kaç elemanlıdır ?\n",
    "print(len(arabalar))\n",
    "\n",
    "# 3-  Listenin ilk ve son elemanı nedir ?\n",
    "print(arabalar[0])\n",
    "print(arabalar[-1])\n",
    "\n",
    "# 4-  Mazda değerini Toyota ile değiştirin.\n",
    "arabalar[3] = \"Toyota\"\n",
    "\n",
    "# 5-  Listenin -2 indeksindeki değer nedir ?\n",
    "print(arabalar[-2])\n",
    "\n",
    "# 6-  Listenin ilk 3 elemanını alın.\n",
    "print(arabalar[0:3])\n",
    "\n",
    "# 7-  Listenin son 2 elemanı yerine \"Toyota\" ve \"Renault\" değerlerini ekleyin.\n",
    "arabalar[-1] = \"Toyota\"\n",
    "arabalar[-2] = \"Renault\"\n",
    "\n",
    "# 8-  Listenin üzerine \"Audi\" ve \"Nissan\" değerlerini ekleyin.\n",
    "arabalar.append(\"Audi\")\n",
    "arabalar.append(\"Nissan\")\n",
    "\n",
    "# 9- Listenin son elemanını silin.\n",
    "arabalar.pop()\n",
    "\n",
    "# 10- Liste elemanlarını tersten yazdırınız.\n",
    "arabalar.reverse()\n",
    "print(arabalar)\n",
    "\n",
    "# 11- Aşağıdaki verileri bir liste içinde saklayınız. \n",
    "\n",
    "      # studentA: Yiğit Bilgi 2010, (70,60,70)\n",
    "      # studentB: Sena Turan  1999, (80,80,70)\n",
    "      # studentC: Ahmet Turan 1998, (80,70,90) \n",
    "ogrenciler = [\n",
    "    (\"Yiğit Bilgi\", 2010, (70,60,70)),\n",
    "    (\"Sena Turan\", 1999, (80,80,70)),\n",
    "    (\"Ahmet Turan\", 1998, (80,70,90))\n",
    "]\n",
    "\n",
    "\n",
    "# 12- Liste elemanlarını ekrana yazdırınız.\n",
    "for ogrenci in ogrenciler:\n",
    "     print(f\"Ad: {ogrenci[0]}, Doğum Yılı: {ogrenci[1]}, Notlar: {ogrenci[2]}\")\n",
    "      \n",
    "\n",
    "  \n",
    "names = ['Ali','Yağmur','Hakan','Deniz']\n",
    "years = [1998, 2000, 1998, 1987]\n",
    "\n",
    "# 13-  \"Cenk\" ismini listenin sonuna ekleyiniz.\n",
    "names.append(\"Cenk\")\n",
    "\n",
    "# 14-  \"Sena\" değerini listenin başına ekleyiniz.\n",
    "names.insert(0, \"Sena\")\n",
    "\n",
    "# 15-  \"Deniz\" ismini listeden siliniz.\n",
    "names.remove(\"Deniz\")\n",
    "\n",
    "# 16-  \"Ali\" listenin bir elemanı mıdır ?\n",
    "if \"Ali\" in names:\n",
    "     print(\"Ali listede var.\")\n",
    "else:\n",
    "     print(\"Ali listede yok.\")\n",
    "\n",
    "# 17-  Liste elemanlarını ters çevirin.\n",
    "names.reverse()\n",
    "print(names)\n",
    "\n",
    "# 18-  Liste elemanlarını alfabetik olarak sıralayınız.\n",
    "names.sort()\n",
    "print(names)\n",
    "\n",
    "# 19-  years listesini rakamsal büyüklüğe göre sıralayınız.\n",
    "years.sort()\n",
    "print(years)\n",
    "\n",
    "# 20-  str = \"Chevrolet,Dacia\" karakter dizisini listeye çeviriniz.\n",
    "str = \"Chevrolet,Dacia\"\n",
    "liste = str.split(\",\")\n",
    "print (liste)\n",
    "\n",
    "# 21- years dizisinde kaç tane 1998 değeri vardır ?\n",
    "sayac = 0\n",
    "for i in years:\n",
    "     if i == 1998 :\n",
    "          sayac+=1\n",
    "print (sayac)\n",
    "# 22- years dizisinin tüm elemanlarını siliniz.\n",
    "years.clear()\n",
    "print(years)\n",
    "\n",
    "# 23- Kullanıcıdan alacağınız 3 tane marka bilgisini bir listede saklayınız.\n",
    "markalar = []\n",
    "sayac = 3\n",
    "while sayac > 0:\n",
    "     marka = input(\"Bir marka giriniz:\")\n",
    "     markalar.append(marka)\n",
    "     sayac -=1 \n",
    "print(markalar)"
   ]
  }
 ],
 "metadata": {
  "colab": {
   "provenance": []
  },
  "kernelspec": {
   "display_name": "Python 3",
   "language": "python",
   "name": "python3"
  },
  "language_info": {
   "codemirror_mode": {
    "name": "ipython",
    "version": 3
   },
   "file_extension": ".py",
   "mimetype": "text/x-python",
   "name": "python",
   "nbconvert_exporter": "python",
   "pygments_lexer": "ipython3",
   "version": "3.13.2"
  },
  "orig_nbformat": 4
 },
 "nbformat": 4,
 "nbformat_minor": 0
}
