{
 "cells": [
  {
   "attachments": {},
   "cell_type": "markdown",
   "metadata": {},
   "source": [
    "# Problem 1 \n",
    "Seaborn kütüphanesi içerisinden Titanic veri setini tanımlayınız."
   ]
  },
  {
   "cell_type": "code",
   "execution_count": 4,
   "metadata": {},
   "outputs": [
    {
     "ename": "ModuleNotFoundError",
     "evalue": "No module named 'seaborn'",
     "output_type": "error",
     "traceback": [
      "\u001b[31m---------------------------------------------------------------------------\u001b[39m",
      "\u001b[31mModuleNotFoundError\u001b[39m                       Traceback (most recent call last)",
      "\u001b[36mCell\u001b[39m\u001b[36m \u001b[39m\u001b[32mIn[4]\u001b[39m\u001b[32m, line 1\u001b[39m\n\u001b[32m----> \u001b[39m\u001b[32m1\u001b[39m \u001b[38;5;28;01mimport\u001b[39;00m\u001b[38;5;250m \u001b[39m\u001b[34;01mseaborn\u001b[39;00m\u001b[38;5;250m \u001b[39m\u001b[38;5;28;01mas\u001b[39;00m\u001b[38;5;250m \u001b[39m\u001b[34;01msns\u001b[39;00m\n\u001b[32m      3\u001b[39m titanic = sns.load_dataset(\u001b[33m\"\u001b[39m\u001b[33mtitanic\u001b[39m\u001b[33m\"\u001b[39m)\n\u001b[32m      4\u001b[39m \u001b[38;5;28mprint\u001b[39m(titanic.head())\n",
      "\u001b[31mModuleNotFoundError\u001b[39m: No module named 'seaborn'"
     ]
    }
   ],
   "source": [
    "import seaborn as sns\n",
    "\n",
    "titanic = sns.load_dataset(\"titanic\")\n",
    "print(titanic.head())\n"
   ]
  },
  {
   "attachments": {},
   "cell_type": "markdown",
   "metadata": {},
   "source": [
    "# Problem 2\n",
    "Titanic veri setindeki kadın ve erkek yolcuların sayısını bulunuz."
   ]
  },
  {
   "cell_type": "code",
   "execution_count": null,
   "metadata": {},
   "outputs": [
    {
     "ename": "ModuleNotFoundError",
     "evalue": "No module named 'seaborn'",
     "output_type": "error",
     "traceback": [
      "\u001b[31m---------------------------------------------------------------------------\u001b[39m",
      "\u001b[31mModuleNotFoundError\u001b[39m                       Traceback (most recent call last)",
      "\u001b[36mCell\u001b[39m\u001b[36m \u001b[39m\u001b[32mIn[2]\u001b[39m\u001b[32m, line 1\u001b[39m\n\u001b[32m----> \u001b[39m\u001b[32m1\u001b[39m \u001b[38;5;28;01mimport\u001b[39;00m\u001b[38;5;250m \u001b[39m\u001b[34;01mseaborn\u001b[39;00m\u001b[38;5;250m \u001b[39m\u001b[38;5;28;01mas\u001b[39;00m\u001b[38;5;250m \u001b[39m\u001b[34;01msns\u001b[39;00m\n\u001b[32m      4\u001b[39m titanic = sns.load_dataset(\u001b[33m\"\u001b[39m\u001b[33mtitanic\u001b[39m\u001b[33m\"\u001b[39m)\n\u001b[32m      5\u001b[39m cinsiyet_sayilari = titanic[\u001b[33m'\u001b[39m\u001b[33msex\u001b[39m\u001b[33m'\u001b[39m].value_counts()\n",
      "\u001b[31mModuleNotFoundError\u001b[39m: No module named 'seaborn'"
     ]
    }
   ],
   "source": [
    "titanic = sns.load_dataset(\"titanic\")\n",
    "cinsiyet_sayilari = titanic['sex'].value_counts()\n",
    "\n",
    "print(cinsiyet_sayilari)\n"
   ]
  },
  {
   "attachments": {},
   "cell_type": "markdown",
   "metadata": {},
   "source": [
    "# Problem 3\n",
    "Her bir sutuna ait unique değerlerin sayısını bulunuz."
   ]
  },
  {
   "cell_type": "code",
   "execution_count": null,
   "metadata": {},
   "outputs": [],
   "source": [
    "for column in titanic.columns:\n",
    "    print(f\"{column} sütununun benzersiz değerleri:\")\n",
    "    print(titanic[column].unique())"
   ]
  },
  {
   "attachments": {},
   "cell_type": "markdown",
   "metadata": {},
   "source": [
    "# Problem 4\n",
    "pclass değişkeninin unique değerlerinin sayısını bulunuz."
   ]
  },
  {
   "cell_type": "code",
   "execution_count": null,
   "metadata": {},
   "outputs": [],
   "source": [
    "unique_count = titanic[\"pclass\"].nunique()\n",
    "print(\"pclass değişkeninin benzersiz değer sayısı:\", unique_count)"
   ]
  },
  {
   "attachments": {},
   "cell_type": "markdown",
   "metadata": {},
   "source": [
    "# Problem 5\n",
    "pclass ve parch değişkenlerinin unique değerlerinin sayısını bulunuz"
   ]
  },
  {
   "cell_type": "code",
   "execution_count": null,
   "metadata": {},
   "outputs": [],
   "source": [
    "print(\"pclass değişkeninin unique değer sayısı:\", titanic[\"pclass\"].nunique())\n",
    "print(\"parch değişkeninin unique değer sayısı:\", titanic[\"parch\"].nunique())"
   ]
  },
  {
   "attachments": {},
   "cell_type": "markdown",
   "metadata": {},
   "source": [
    "# Problem 6\n",
    "embarked değişkeninin tipini kontrol ediniz. Tipini category olarak değiştiriniz ve tekrar kontrol ediniz."
   ]
  },
  {
   "cell_type": "code",
   "execution_count": null,
   "metadata": {},
   "outputs": [],
   "source": [
    "print(\"Dönüştürmeden önce tipi:\", titanic[\"embarked\"].dtype)\n",
    "\n",
    "titanic[\"embarked\"] = titanic[\"embarked\"].astype(\"category\")\n",
    "\n",
    "print(\"Dönüştürdükten sonra tipi:\", titanic[\"embarked\"].dtype)"
   ]
  },
  {
   "attachments": {},
   "cell_type": "markdown",
   "metadata": {},
   "source": [
    "# Problem 7\n",
    "embarked değeri C olanların tüm bilgilerini gösteriniz."
   ]
  },
  {
   "cell_type": "code",
   "execution_count": null,
   "metadata": {},
   "outputs": [],
   "source": [
    "embarked_c = titanic[titanic[\"embarked\"] == \"C\"]\n",
    "print(embarked_c)"
   ]
  },
  {
   "attachments": {},
   "cell_type": "markdown",
   "metadata": {},
   "source": [
    "# Problem 8\n",
    "embarked değeri S olmayanların tüm bilgelerini gösteriniz."
   ]
  },
  {
   "cell_type": "code",
   "execution_count": null,
   "metadata": {},
   "outputs": [],
   "source": [
    "not_s = titanic[titanic[\"embarked\"] != \"S\"]\n",
    "print(not_s)"
   ]
  },
  {
   "attachments": {},
   "cell_type": "markdown",
   "metadata": {},
   "source": [
    "# Problem 9\n",
    "\n",
    "Yaşı 30 dan küçük ve kadın olan yolcuların tüm bilgilerini gösteriniz."
   ]
  },
  {
   "cell_type": "code",
   "execution_count": null,
   "metadata": {},
   "outputs": [],
   "source": [
    "youngwomen = titanic[(titanic[\"age\"] < 30) & (titanic[\"sex\"] == \"female\")]\n",
    "print (youngwomen)"
   ]
  },
  {
   "attachments": {},
   "cell_type": "markdown",
   "metadata": {},
   "source": [
    "# Problem 10\n",
    "Fare'i 500'den büyük veya yaşı 70’den büyük yolcuların bilgilerini gösteriniz"
   ]
  },
  {
   "cell_type": "code",
   "execution_count": null,
   "metadata": {},
   "outputs": [],
   "source": [
    "filtered_passengers = titanic[(titanic[\"fare\"] > 500) | (titanic[\"age\"] > 70)]\n",
    "print(filtered_passengers)"
   ]
  },
  {
   "attachments": {},
   "cell_type": "markdown",
   "metadata": {},
   "source": [
    "# Problem 11\n",
    "Her bir değişkendeki boş değerlerin toplamını bulunuz."
   ]
  },
  {
   "cell_type": "code",
   "execution_count": null,
   "metadata": {},
   "outputs": [],
   "source": [
    "missing_values = titanic.isnull().sum()\n",
    "print(missing_values)"
   ]
  }
 ],
 "metadata": {
  "kernelspec": {
   "display_name": "Python 3",
   "language": "python",
   "name": "python3"
  },
  "language_info": {
   "codemirror_mode": {
    "name": "ipython",
    "version": 3
   },
   "file_extension": ".py",
   "mimetype": "text/x-python",
   "name": "python",
   "nbconvert_exporter": "python",
   "pygments_lexer": "ipython3",
   "version": "3.11.9"
  },
  "orig_nbformat": 4,
  "vscode": {
   "interpreter": {
    "hash": "5026d2d6e7aaaaba093def813beadff083d8733e4a511af01735cbabd156995d"
   }
  }
 },
 "nbformat": 4,
 "nbformat_minor": 2
}
